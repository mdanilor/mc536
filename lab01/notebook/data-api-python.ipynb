{
 "cells": [
  {
   "cell_type": "markdown",
   "metadata": {},
   "source": [
    "## Tarefa 1\n",
    "Das fontes de dados dispoíveis, tente encontrar fontes com formatos diferentes e importá-las via Python. Busque pelo menos dois formatos."
   ]
  },
  {
   "cell_type": "code",
   "execution_count": 47,
   "metadata": {},
   "outputs": [
    {
     "name": "stdout",
     "output_type": "stream",
     "text": [
      "{'resultset': [[2000, '615246.00', '243.00', '21.56'], [2001, '389761.00', '142.00', '20.93'], [2002, '349896.00', '93.00', '22.99'], [2003, '410009.00', '103.00', '21.58'], [2004, '454601.00', '102.00', '23.34'], [2005, '598199.00', '122.00', '25.41'], [2006, '540774.00', '109.00', '26.30'], [2007, '48918.72', '93.00', '0.00'], [2008, '50222.15', '68.00', '93.46'], [2009, '302118.00', '85.00', '15.86'], [2010, '326157.00', '76.00', '14.69'], [2011, '261137.00', '70.00', '4.85'], [2012, '39827.23', '60.00', '82.58'], [2013, '30586.04', '41.00', '42.50'], [2014, '139251.00', '37.00', '16.48'], [2015, '21510.64', '35.00', '71.77'], [2016, '124142.00', '36.00', '6.23'], [2017, '189505.00', '34.00', '0.00'], [2018, '28797.87', '56.00', '29.47'], [2019, '29060.94', '27.00', '0.00']], 'metadata': [{'colIndex': 0, 'colType': 'String', 'colName': 'Ano'}, {'colIndex': 1, 'colType': 'String', 'colName': '(1) Número de casos '}, {'colIndex': 2, 'colType': 'String', 'colName': 'Número de óbitos '}, {'colIndex': 3, 'colType': 'String', 'colName': '(2) Percentual de casos por Plasmodium falciparum '}]}\n"
     ]
    }
   ],
   "source": [
    "# Importando um JSON\n",
    "import requests\n",
    "import json\n",
    "\n",
    "# Dados de gasto per capta com saúde no Brasil de 1995 a 2016\n",
    "url = \"https://apps.who.int/gho/athena/api/GHO/WHS7_104?filter=COUNTRY:BRA&format=json\"\n",
    "js = requests.get(url).json()\n",
    "\n",
    "# Mostrando copyrights como prova de conceito\n",
    "print(js[\"copyright\"])"
   ]
  },
  {
   "cell_type": "code",
   "execution_count": 59,
   "metadata": {},
   "outputs": [
    {
     "ename": "AttributeError",
     "evalue": "type object 'pandas._libs.interval.IntervalMixin' has no attribute '__reduce_cython__'",
     "output_type": "error",
     "traceback": [
      "\u001b[0;31m---------------------------------------------------------------------------\u001b[0m",
      "\u001b[0;31mAttributeError\u001b[0m                            Traceback (most recent call last)",
      "\u001b[0;32m<ipython-input-59-b76eee8b84ba>\u001b[0m in \u001b[0;36m<module>\u001b[0;34m\u001b[0m\n\u001b[1;32m      2\u001b[0m \u001b[0;32mimport\u001b[0m \u001b[0mio\u001b[0m\u001b[0;34m\u001b[0m\u001b[0;34m\u001b[0m\u001b[0m\n\u001b[1;32m      3\u001b[0m \u001b[0;32mimport\u001b[0m \u001b[0mrequests\u001b[0m\u001b[0;34m\u001b[0m\u001b[0;34m\u001b[0m\u001b[0m\n\u001b[0;32m----> 4\u001b[0;31m \u001b[0;32mimport\u001b[0m \u001b[0mpandas\u001b[0m \u001b[0;32mas\u001b[0m \u001b[0mpd\u001b[0m\u001b[0;34m\u001b[0m\u001b[0;34m\u001b[0m\u001b[0m\n\u001b[0m\u001b[1;32m      5\u001b[0m \u001b[0;34m\u001b[0m\u001b[0m\n\u001b[1;32m      6\u001b[0m \u001b[0;31m# Mortes por dengue entre  2001 e 2014\u001b[0m\u001b[0;34m\u001b[0m\u001b[0;34m\u001b[0m\u001b[0;34m\u001b[0m\u001b[0m\n",
      "\u001b[0;32m/usr/local/lib/python3.6/dist-packages/pandas/__init__.py\u001b[0m in \u001b[0;36m<module>\u001b[0;34m\u001b[0m\n\u001b[1;32m     28\u001b[0m \u001b[0;34m\u001b[0m\u001b[0m\n\u001b[1;32m     29\u001b[0m \u001b[0;32mtry\u001b[0m\u001b[0;34m:\u001b[0m\u001b[0;34m\u001b[0m\u001b[0;34m\u001b[0m\u001b[0m\n\u001b[0;32m---> 30\u001b[0;31m     \u001b[0;32mfrom\u001b[0m \u001b[0mpandas\u001b[0m\u001b[0;34m.\u001b[0m\u001b[0m_libs\u001b[0m \u001b[0;32mimport\u001b[0m \u001b[0mhashtable\u001b[0m \u001b[0;32mas\u001b[0m \u001b[0m_hashtable\u001b[0m\u001b[0;34m,\u001b[0m \u001b[0mlib\u001b[0m \u001b[0;32mas\u001b[0m \u001b[0m_lib\u001b[0m\u001b[0;34m,\u001b[0m \u001b[0mtslib\u001b[0m \u001b[0;32mas\u001b[0m \u001b[0m_tslib\u001b[0m\u001b[0;34m\u001b[0m\u001b[0;34m\u001b[0m\u001b[0m\n\u001b[0m\u001b[1;32m     31\u001b[0m \u001b[0;32mexcept\u001b[0m \u001b[0mImportError\u001b[0m \u001b[0;32mas\u001b[0m \u001b[0me\u001b[0m\u001b[0;34m:\u001b[0m  \u001b[0;31m# pragma: no cover\u001b[0m\u001b[0;34m\u001b[0m\u001b[0;34m\u001b[0m\u001b[0m\n\u001b[1;32m     32\u001b[0m     \u001b[0;31m# hack but overkill to use re\u001b[0m\u001b[0;34m\u001b[0m\u001b[0;34m\u001b[0m\u001b[0;34m\u001b[0m\u001b[0m\n",
      "\u001b[0;32m/usr/local/lib/python3.6/dist-packages/pandas/_libs/__init__.py\u001b[0m in \u001b[0;36m<module>\u001b[0;34m\u001b[0m\n\u001b[1;32m     11\u001b[0m \u001b[0;34m\u001b[0m\u001b[0m\n\u001b[1;32m     12\u001b[0m \u001b[0;34m\u001b[0m\u001b[0m\n\u001b[0;32m---> 13\u001b[0;31m \u001b[0;32mfrom\u001b[0m \u001b[0mpandas\u001b[0m\u001b[0;34m.\u001b[0m\u001b[0m_libs\u001b[0m\u001b[0;34m.\u001b[0m\u001b[0minterval\u001b[0m \u001b[0;32mimport\u001b[0m \u001b[0mInterval\u001b[0m\u001b[0;34m\u001b[0m\u001b[0;34m\u001b[0m\u001b[0m\n\u001b[0m\u001b[1;32m     14\u001b[0m from pandas._libs.tslibs import (\n\u001b[1;32m     15\u001b[0m     \u001b[0mNaT\u001b[0m\u001b[0;34m,\u001b[0m\u001b[0;34m\u001b[0m\u001b[0;34m\u001b[0m\u001b[0m\n",
      "\u001b[0;32mpandas/_libs/interval.pyx\u001b[0m in \u001b[0;36minit pandas._libs.interval\u001b[0;34m()\u001b[0m\n",
      "\u001b[0;31mAttributeError\u001b[0m: type object 'pandas._libs.interval.IntervalMixin' has no attribute '__reduce_cython__'"
     ]
    }
   ],
   "source": [
    "# Importando um CSV\n",
    "import io\n",
    "import requests\n",
    "import pandas as pd\n",
    "\n",
    "# Mortes por dengue entre  2001 e 2014\n",
    "url = \"http://sage.saude.gov.br/graficos/odm6/obitosDengue.php?output=csv\"\n",
    "csv = pd.read_csv(io.StringIO(requests.get(url).content.decode(\"utf-8\")), sep=\",\")\n",
    "print(csv)\n"
   ]
  },
  {
   "cell_type": "code",
   "execution_count": 55,
   "metadata": {},
   "outputs": [
    {
     "name": "stdout",
     "output_type": "stream",
     "text": [
      "{'resultset': [[2000, '615246.00', '243.00', '21.56'], [2001, '389761.00', '142.00', '20.93'], [2002, '349896.00', '93.00', '22.99'], [2003, '410009.00', '103.00', '21.58'], [2004, '454601.00', '102.00', '23.34'], [2005, '598199.00', '122.00', '25.41'], [2006, '540774.00', '109.00', '26.30'], [2007, '48918.72', '93.00', '0.00'], [2008, '50222.15', '68.00', '93.46'], [2009, '302118.00', '85.00', '15.86'], [2010, '326157.00', '76.00', '14.69'], [2011, '261137.00', '70.00', '4.85'], [2012, '39827.23', '60.00', '82.58'], [2013, '30586.04', '41.00', '42.50'], [2014, '139251.00', '37.00', '16.48'], [2015, '21510.64', '35.00', '71.77'], [2016, '124142.00', '36.00', '6.23'], [2017, '189505.00', '34.00', '0.00'], [2018, '28797.87', '56.00', '29.47'], [2019, '29060.94', '27.00', '0.00']], 'metadata': [{'colIndex': 0, 'colType': 'String', 'colName': 'Ano'}, {'colIndex': 1, 'colType': 'String', 'colName': '(1) Número de casos '}, {'colIndex': 2, 'colType': 'String', 'colName': 'Número de óbitos '}, {'colIndex': 3, 'colType': 'String', 'colName': '(2) Percentual de casos por Plasmodium falciparum '}]}\n"
     ]
    }
   ],
   "source": [
    "# Importando um JSON\n",
    "import requests\n",
    "import json\n",
    "\n",
    "# Casos e mortes por malária no Brasil de 2000 a 2019.\n",
    "url = \"https://sage.saude.gov.br/graficos/malaria/malariaEpidemiologico.php?output=json\"\n",
    "js = requests.get(url).json()\n",
    "\n",
    "print(js)"
   ]
  }
 ],
 "metadata": {
  "kernelspec": {
   "display_name": "Python 3",
   "language": "python",
   "name": "python3"
  },
  "language_info": {
   "codemirror_mode": {
    "name": "ipython",
    "version": 3
   },
   "file_extension": ".py",
   "mimetype": "text/x-python",
   "name": "python",
   "nbconvert_exporter": "python",
   "pygments_lexer": "ipython3",
   "version": "3.6.9"
  }
 },
 "nbformat": 4,
 "nbformat_minor": 4
}

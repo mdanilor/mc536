{
 "cells": [
  {
   "cell_type": "markdown",
   "metadata": {},
   "source": [
    "## Tarefa 1\n",
    "Das fontes de dados dispoíveis, tente encontrar fontes com formatos diferentes e importá-las via Python. Busque pelo menos dois formatos."
   ]
  },
  {
   "cell_type": "code",
   "execution_count": 47,
   "metadata": {},
   "outputs": [
    {
     "name": "stdout",
     "output_type": "stream",
     "text": [
      "{'resultset': [[2000, '615246.00', '243.00', '21.56'], [2001, '389761.00', '142.00', '20.93'], [2002, '349896.00', '93.00', '22.99'], [2003, '410009.00', '103.00', '21.58'], [2004, '454601.00', '102.00', '23.34'], [2005, '598199.00', '122.00', '25.41'], [2006, '540774.00', '109.00', '26.30'], [2007, '48918.72', '93.00', '0.00'], [2008, '50222.15', '68.00', '93.46'], [2009, '302118.00', '85.00', '15.86'], [2010, '326157.00', '76.00', '14.69'], [2011, '261137.00', '70.00', '4.85'], [2012, '39827.23', '60.00', '82.58'], [2013, '30586.04', '41.00', '42.50'], [2014, '139251.00', '37.00', '16.48'], [2015, '21510.64', '35.00', '71.77'], [2016, '124142.00', '36.00', '6.23'], [2017, '189505.00', '34.00', '0.00'], [2018, '28797.87', '56.00', '29.47'], [2019, '29060.94', '27.00', '0.00']], 'metadata': [{'colIndex': 0, 'colType': 'String', 'colName': 'Ano'}, {'colIndex': 1, 'colType': 'String', 'colName': '(1) Número de casos '}, {'colIndex': 2, 'colType': 'String', 'colName': 'Número de óbitos '}, {'colIndex': 3, 'colType': 'String', 'colName': '(2) Percentual de casos por Plasmodium falciparum '}]}\n"
     ]
    }
   ],
   "source": [
    "# Importando um JSON\n",
    "import requests\n",
    "import json\n",
    "\n",
    "# Dados de gasto per capta com saúde no Brasil de 1995 a 2016\n",
    "url = \"https://apps.who.int/gho/athena/api/GHO/WHS7_104?filter=COUNTRY:BRA&format=json\"\n",
    "js = requests.get(url).json()\n",
    "\n",
    "# Mostrando copyrights como prova de conceito\n",
    "print(js[\"copyright\"])"
   ]
  },
  {
   "cell_type": "code",
   "execution_count": 1,
   "metadata": {},
   "outputs": [
    {
     "name": "stdout",
     "output_type": "stream",
     "text": [
      "     Ano  Número de óbitos por dengue\n",
      "0   2001                         44.0\n",
      "1   2002                        150.0\n",
      "2   2003                         88.0\n",
      "3   2004                         18.0\n",
      "4   2005                         69.0\n",
      "5   2006                        142.0\n",
      "6   2007                        290.0\n",
      "7   2008                        561.0\n",
      "8   2009                        340.0\n",
      "9   2010                        656.0\n",
      "10  2011                        484.0\n",
      "11  2012                        283.0\n",
      "12  2013                        674.0\n",
      "13  2014                        475.0\n"
     ]
    }
   ],
   "source": [
    "# Importando um CSV\n",
    "import io\n",
    "import requests\n",
    "import pandas as pd\n",
    "\n",
    "# Mortes por dengue entre  2001 e 2014\n",
    "url = \"http://sage.saude.gov.br/graficos/odm6/obitosDengue.php?output=csv\"\n",
    "csv = pd.read_csv(io.StringIO(requests.get(url).content.decode(\"utf-8\")), sep=\",\")\n",
    "print(csv)\n"
   ]
  },
  {
   "cell_type": "code",
   "execution_count": 55,
   "metadata": {},
   "outputs": [
    {
     "name": "stdout",
     "output_type": "stream",
     "text": [
      "{'resultset': [[2000, '615246.00', '243.00', '21.56'], [2001, '389761.00', '142.00', '20.93'], [2002, '349896.00', '93.00', '22.99'], [2003, '410009.00', '103.00', '21.58'], [2004, '454601.00', '102.00', '23.34'], [2005, '598199.00', '122.00', '25.41'], [2006, '540774.00', '109.00', '26.30'], [2007, '48918.72', '93.00', '0.00'], [2008, '50222.15', '68.00', '93.46'], [2009, '302118.00', '85.00', '15.86'], [2010, '326157.00', '76.00', '14.69'], [2011, '261137.00', '70.00', '4.85'], [2012, '39827.23', '60.00', '82.58'], [2013, '30586.04', '41.00', '42.50'], [2014, '139251.00', '37.00', '16.48'], [2015, '21510.64', '35.00', '71.77'], [2016, '124142.00', '36.00', '6.23'], [2017, '189505.00', '34.00', '0.00'], [2018, '28797.87', '56.00', '29.47'], [2019, '29060.94', '27.00', '0.00']], 'metadata': [{'colIndex': 0, 'colType': 'String', 'colName': 'Ano'}, {'colIndex': 1, 'colType': 'String', 'colName': '(1) Número de casos '}, {'colIndex': 2, 'colType': 'String', 'colName': 'Número de óbitos '}, {'colIndex': 3, 'colType': 'String', 'colName': '(2) Percentual de casos por Plasmodium falciparum '}]}\n"
     ]
    }
   ],
   "source": [
    "# Importando um JSON\n",
    "import requests\n",
    "import json\n",
    "\n",
    "# Casos e mortes por malária no Brasil de 2000 a 2019.\n",
    "url = \"https://sage.saude.gov.br/graficos/malaria/malariaEpidemiologico.php?output=json\"\n",
    "js = requests.get(url).json()\n",
    "\n",
    "print(js)"
   ]
  }
 ],
 "metadata": {
  "kernelspec": {
   "display_name": "Python 3",
   "language": "python",
   "name": "python3"
  },
  "language_info": {
   "codemirror_mode": {
    "name": "ipython",
    "version": 3
   },
   "file_extension": ".py",
   "mimetype": "text/x-python",
   "name": "python",
   "nbconvert_exporter": "python",
   "pygments_lexer": "ipython3",
   "version": "3.6.9"
  }
 },
 "nbformat": 4,
 "nbformat_minor": 4
}
